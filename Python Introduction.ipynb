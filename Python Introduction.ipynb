{
 "cells": [
  {
   "cell_type": "markdown",
   "id": "0ef196e1",
   "metadata": {},
   "source": [
    "# Python Introduction:\n",
    "\n",
    "\n",
    "Tip 1: Don't go for latest version of Python always. Go for a stable version of Python like Python 3.7.8\n"
   ]
  },
  {
   "cell_type": "markdown",
   "id": "22e195a6",
   "metadata": {},
   "source": [
    "Tip 2: If you use multiple versions of Python, note down the version of the Python you have used in your project."
   ]
  },
  {
   "cell_type": "markdown",
   "id": "bacfa3f6",
   "metadata": {},
   "source": [
    "Tip 3:Open the Python 3.7.8 Shell window after downloading and installing it in your PC. You can use Shell window to execute single line code. If you want to execute multiple lines of code, write in in a .py script file."
   ]
  },
  {
   "cell_type": "markdown",
   "id": "0418d7fd",
   "metadata": {},
   "source": [
    "Tip 4: You can prioritize which Python version you want to use.\n",
    "    You should install the libraries. \n",
    "    Go to IDLE--> Right Click--> Open File Location-->\n",
    "    Right Click--> Open File Location\n",
    "    Copy the Path\n",
    "    Type env in Windows Search Bar\n",
    "    click New button---> Paste the path--> click Move up to first position\n",
    "    Copy the Script Path\n",
    "    click New button---> Paste the path--> click Move up to second position\n",
    "    click Ok-->ok\n",
    "    \n",
    "    Go to command window by typing cmd\n",
    "    Type Python --> press enter\n",
    "    Shell window comes up\n",
    "    Type Python code\n",
    "    type Ctrl+Z to come out of shell\n",
    "    \n",
    "    Follow similar procedure to add more python versions and move it in the  \n",
    "    specific order needed while configuring the Environmental variables.\n",
    "        \n",
    "       "
   ]
  },
  {
   "cell_type": "code",
   "execution_count": null,
   "id": "0a948099",
   "metadata": {},
   "outputs": [],
   "source": [
    "#Tip 5: How to Install a Library?\n",
    "\n",
    "#To install the opencv Library\n",
    "pip install opencv-python\n",
    "\n",
    "#To install the imutils Library\n",
    "pip install imutils\n",
    "\n",
    "#To install the numpy Library\n",
    "pip install numpy"
   ]
  },
  {
   "cell_type": "code",
   "execution_count": null,
   "id": "6312980d",
   "metadata": {},
   "outputs": [],
   "source": [
    "#Tip 6: How to import a Library?\n",
    "\n",
    "import cv2\n",
    "import imutils\n",
    "import numpy"
   ]
  },
  {
   "cell_type": "code",
   "execution_count": null,
   "id": "85f398e9",
   "metadata": {},
   "outputs": [],
   "source": [
    "#Tip 7: How to Uninstall a Library?\n",
    "pip uninstall imutils\n",
    "\n",
    "#To check if it is uninstalled \n",
    "import imutils # You will get an error"
   ]
  },
  {
   "cell_type": "code",
   "execution_count": null,
   "id": "0a7735ce",
   "metadata": {},
   "outputs": [],
   "source": [
    "#Tip 8: How to install a specific version of a Library?\n",
    "\n",
    "pip install imutils==0.5.4"
   ]
  },
  {
   "cell_type": "code",
   "execution_count": null,
   "id": "a2579b9e",
   "metadata": {},
   "outputs": [],
   "source": [
    "#Tip 9: How to find out which version of Libary you are using?\n",
    "import imutils\n",
    "import numpy\n",
    "imutils.__version__\n",
    "0.5.4\n",
    "numpy.__version__\n",
    "1.21.3"
   ]
  },
  {
   "cell_type": "code",
   "execution_count": null,
   "id": "3b3b874e",
   "metadata": {},
   "outputs": [],
   "source": []
  }
 ],
 "metadata": {
  "kernelspec": {
   "display_name": "Python 3",
   "language": "python",
   "name": "python3"
  },
  "language_info": {
   "codemirror_mode": {
    "name": "ipython",
    "version": 3
   },
   "file_extension": ".py",
   "mimetype": "text/x-python",
   "name": "python",
   "nbconvert_exporter": "python",
   "pygments_lexer": "ipython3",
   "version": "3.8.8"
  }
 },
 "nbformat": 4,
 "nbformat_minor": 5
}
