{
 "cells": [
  {
   "cell_type": "markdown",
   "id": "e99cdc8c",
   "metadata": {},
   "source": [
    "# 6.List"
   ]
  },
  {
   "cell_type": "code",
   "execution_count": 1,
   "id": "398f4cd9",
   "metadata": {
    "scrolled": false
   },
   "outputs": [
    {
     "name": "stdout",
     "output_type": "stream",
     "text": [
      "[1, 2, 3, 4, 5] ['Champ', 21, 99.5]\n",
      "3\n",
      "Champ\n",
      "[2, 3, 4, 5]\n",
      "[1, 2]\n",
      "[1, 2, 3, 4, 5, 'Champ', 21, 99.5]\n"
     ]
    }
   ],
   "source": [
    "# Create List\n",
    "a=[1,2,3,4,5]\n",
    "b=[\"Champ\",21,99.5]\n",
    "print(a,b)\n",
    "print(len(b))  #Length of the list\n",
    "print(b[0])  #Locate list element based on index\n",
    "print(a[1:])  #Print all elements of list except 1st element\n",
    "print(a[:2]) #Print all elements upto 2nd element\n",
    "print(a+b)   #Concatenate 2 lists"
   ]
  },
  {
   "cell_type": "code",
   "execution_count": 2,
   "id": "d53426f9",
   "metadata": {},
   "outputs": [
    {
     "name": "stdout",
     "output_type": "stream",
     "text": [
      "[1, 2, 3, 4, 5, 6]\n"
     ]
    }
   ],
   "source": [
    "a=[1,2,3,4,5]\n",
    "a.append(6) #Inserting new elements to the existing list\n",
    "print(a)"
   ]
  },
  {
   "cell_type": "code",
   "execution_count": 3,
   "id": "83f96205",
   "metadata": {},
   "outputs": [
    {
     "name": "stdout",
     "output_type": "stream",
     "text": [
      "[5, 4, 3, 2, 1]\n",
      "1\n",
      "5\n"
     ]
    }
   ],
   "source": [
    "a=[1,2,3,4,5]\n",
    "a.reverse()  #Reverse List\n",
    "print(a)\n",
    "print(min(a))   # Print Minimum value in list\n",
    "print(max(a))   # Print Maximum value in list"
   ]
  },
  {
   "cell_type": "code",
   "execution_count": 4,
   "id": "8188b3c4",
   "metadata": {},
   "outputs": [
    {
     "data": {
      "text/plain": [
       "[1, 3, 4, 2, 5]"
      ]
     },
     "execution_count": 4,
     "metadata": {},
     "output_type": "execute_result"
    }
   ],
   "source": [
    "a=[1,2,3,4,5]\n",
    "from random import shuffle\n",
    "shuffle(a)\n",
    "a"
   ]
  },
  {
   "cell_type": "code",
   "execution_count": 5,
   "id": "71c8cbfc",
   "metadata": {},
   "outputs": [
    {
     "name": "stdout",
     "output_type": "stream",
     "text": [
      "[[1, 2, 3], [4, 5, 6]]\n",
      "[1, 2, 3]\n",
      "1\n"
     ]
    }
   ],
   "source": [
    "a=[1,2,3]\n",
    "b=[4,5,6] \n",
    "c=[a,b]         #Nested List Matrix\n",
    "print(c)\n",
    "print(c[0])     #Printing  1st row\n",
    "print(c[0][0])  #Printing 1st element\n",
    "\n"
   ]
  },
  {
   "cell_type": "markdown",
   "id": "69ceb5fe",
   "metadata": {},
   "source": [
    "# 7. Dictionaries"
   ]
  },
  {
   "cell_type": "code",
   "execution_count": 10,
   "id": "174a44ea",
   "metadata": {},
   "outputs": [
    {
     "name": "stdout",
     "output_type": "stream",
     "text": [
      "Elon\n"
     ]
    },
    {
     "data": {
      "text/plain": [
       "{'Name': 'Elon', 'age': 51, 'Company': ['Spacex', 'Tesla']}"
      ]
     },
     "execution_count": 10,
     "metadata": {},
     "output_type": "execute_result"
    }
   ],
   "source": [
    "# Creating Dictionary:Key and Value\n",
    "a={\"Name\":\"Elon\",\"age\":50,\"Company\":[\"Spacex\",\"Tesla\"]}\n",
    "print(a[\"Name\"])  #Printing Value based on its key\n",
    "a[\"age\"]=51       #Changing value of age key from 50 to 51\n",
    "a"
   ]
  },
  {
   "cell_type": "code",
   "execution_count": 7,
   "id": "ffb18b72",
   "metadata": {},
   "outputs": [
    {
     "name": "stdout",
     "output_type": "stream",
     "text": [
      "70 Percentage\n"
     ]
    }
   ],
   "source": [
    "#Nested Dictionaries\n",
    "b={\"Climate\":{\"Condition\":{\"Temperature\":\"38 Degree\",\"Humidity\":\"70 Percentage\"}}}\n",
    "print(b[\"Climate\"][\"Condition\"][\"Humidity\"])"
   ]
  },
  {
   "cell_type": "code",
   "execution_count": 8,
   "id": "0e0990d2",
   "metadata": {},
   "outputs": [
    {
     "name": "stdout",
     "output_type": "stream",
     "text": [
      "dict_keys(['Name', 'age', 'Company', 'Age'])\n"
     ]
    }
   ],
   "source": [
    "# Printing Keys of Dictionaries\n",
    "print(a.keys())"
   ]
  },
  {
   "cell_type": "code",
   "execution_count": 11,
   "id": "b0cfb669",
   "metadata": {},
   "outputs": [
    {
     "name": "stdout",
     "output_type": "stream",
     "text": [
      "dict_values(['Elon', 51, ['Spacex', 'Tesla']])\n"
     ]
    }
   ],
   "source": [
    "#Printing Values of Dictionaries\n",
    "print(a.values())"
   ]
  },
  {
   "cell_type": "code",
   "execution_count": 12,
   "id": "a77b7367",
   "metadata": {},
   "outputs": [
    {
     "name": "stdout",
     "output_type": "stream",
     "text": [
      "dict_items([('Name', 'Elon'), ('age', 51), ('Company', ['Spacex', 'Tesla'])])\n"
     ]
    }
   ],
   "source": [
    "#Printing tuple of all the items\n",
    "print(a.items())"
   ]
  },
  {
   "cell_type": "markdown",
   "id": "dfb2dad0",
   "metadata": {},
   "source": [
    "# 8. Tuples"
   ]
  },
  {
   "cell_type": "code",
   "execution_count": 14,
   "id": "64821bee",
   "metadata": {},
   "outputs": [
    {
     "data": {
      "text/plain": [
       "('Champ', 21, 99.5)"
      ]
     },
     "execution_count": 14,
     "metadata": {},
     "output_type": "execute_result"
    }
   ],
   "source": [
    "#Creating Tuples\n",
    "a=(\"Champ\",21,99.5)\n",
    "a"
   ]
  },
  {
   "cell_type": "code",
   "execution_count": 15,
   "id": "3823e339",
   "metadata": {},
   "outputs": [
    {
     "name": "stdout",
     "output_type": "stream",
     "text": [
      "3\n"
     ]
    }
   ],
   "source": [
    "#Printing the length of Tuple\n",
    "print (len(a))"
   ]
  },
  {
   "cell_type": "code",
   "execution_count": 16,
   "id": "95cad0b9",
   "metadata": {},
   "outputs": [
    {
     "name": "stdout",
     "output_type": "stream",
     "text": [
      "Champ\n"
     ]
    }
   ],
   "source": [
    "#Printing elements of Tuple using index\n",
    "print(a[0])\n"
   ]
  },
  {
   "cell_type": "code",
   "execution_count": 17,
   "id": "c897322d",
   "metadata": {},
   "outputs": [
    {
     "name": "stdout",
     "output_type": "stream",
     "text": [
      "0\n"
     ]
    }
   ],
   "source": [
    "#Getting index of elements\n",
    "print(a.index(\"Champ\"))"
   ]
  },
  {
   "cell_type": "markdown",
   "id": "fd151411",
   "metadata": {},
   "source": [
    "# 9. Sets"
   ]
  },
  {
   "cell_type": "code",
   "execution_count": 26,
   "id": "a287bb19",
   "metadata": {},
   "outputs": [
    {
     "data": {
      "text/plain": [
       "{'Champ'}"
      ]
     },
     "execution_count": 26,
     "metadata": {},
     "output_type": "execute_result"
    }
   ],
   "source": [
    "# Creating Set\n",
    "a=set()\n",
    "a.add(\"Champ\")\n",
    "a\n",
    "\n"
   ]
  },
  {
   "cell_type": "code",
   "execution_count": 27,
   "id": "1c132fcc",
   "metadata": {},
   "outputs": [
    {
     "data": {
      "text/plain": [
       "{30, 'Champ'}"
      ]
     },
     "execution_count": 27,
     "metadata": {},
     "output_type": "execute_result"
    }
   ],
   "source": [
    "a.add(30)\n",
    "a"
   ]
  },
  {
   "cell_type": "code",
   "execution_count": 24,
   "id": "55cb137f",
   "metadata": {},
   "outputs": [
    {
     "data": {
      "text/plain": [
       "{21, 99.5, 'Champ'}"
      ]
     },
     "execution_count": 24,
     "metadata": {},
     "output_type": "execute_result"
    }
   ],
   "source": [
    "b=[\"Champ\",21,99.5]\n",
    "set(b)"
   ]
  },
  {
   "cell_type": "markdown",
   "id": "01d2fb33",
   "metadata": {},
   "source": [
    "# 10. Boolean"
   ]
  },
  {
   "cell_type": "code",
   "execution_count": 28,
   "id": "bc286760",
   "metadata": {},
   "outputs": [],
   "source": [
    "# Creating Boolean\n",
    "a=True"
   ]
  },
  {
   "cell_type": "code",
   "execution_count": 29,
   "id": "f9043363",
   "metadata": {},
   "outputs": [
    {
     "name": "stdout",
     "output_type": "stream",
     "text": [
      "False\n",
      "True\n",
      "False\n",
      "True\n",
      "False\n",
      "True\n",
      "False\n",
      "True\n"
     ]
    }
   ],
   "source": [
    "a=10\n",
    "b=5\n",
    "c=15\n",
    "print(a<b)\n",
    "print(a>b)\n",
    "print(a==b)\n",
    "print(a!=b)\n",
    "print(a<=b)\n",
    "print(a>=b)\n",
    "print(a<b and c>a)\n",
    "print(a<b or c>a)"
   ]
  },
  {
   "cell_type": "markdown",
   "id": "aa02f100",
   "metadata": {},
   "source": [
    "# 11. Python Statements"
   ]
  },
  {
   "cell_type": "code",
   "execution_count": 30,
   "id": "78f0ac7c",
   "metadata": {},
   "outputs": [
    {
     "name": "stdout",
     "output_type": "stream",
     "text": [
      "Positive\n"
     ]
    }
   ],
   "source": [
    "# If-else statement\n",
    "a=True\n",
    "if a:\n",
    "    print(\"Positive\")\n",
    "else:\n",
    "    print(\"Negative\")\n"
   ]
  },
  {
   "cell_type": "code",
   "execution_count": 32,
   "id": "4738933e",
   "metadata": {},
   "outputs": [
    {
     "name": "stdout",
     "output_type": "stream",
     "text": [
      "a is less than b\n"
     ]
    }
   ],
   "source": [
    "#Elif Statement\n",
    "a=5\n",
    "b=6\n",
    "c=10\n",
    "\n",
    "if a<b:\n",
    "    print(\"a is less than b\")\n",
    "elif c==b:\n",
    "    print(\"c is equal to b\")\n",
    "    print(\"a is not less than b\")\n",
    "    if c<a:\n",
    "        print(\"c is less than a \")\n",
    "else:\n",
    "    print(\"a is not less than b\")\n",
    "    \n"
   ]
  },
  {
   "cell_type": "code",
   "execution_count": 33,
   "id": "e12cd0c2",
   "metadata": {},
   "outputs": [
    {
     "name": "stdout",
     "output_type": "stream",
     "text": [
      "1\n",
      "2\n",
      "3\n",
      "4\n",
      "5\n",
      "6\n",
      "7\n",
      "8\n",
      "9\n",
      "10\n"
     ]
    }
   ],
   "source": [
    "# Using For Loop to print elements in List\n",
    "a=[1,2,3,4,5,6,7,8,9,10]\n",
    "for i in a:\n",
    "    print(i)"
   ]
  },
  {
   "cell_type": "code",
   "execution_count": 34,
   "id": "c82c3826",
   "metadata": {},
   "outputs": [
    {
     "data": {
      "text/plain": [
       "['C', 'h', 'a', 'm', 'p']"
      ]
     },
     "execution_count": 34,
     "metadata": {},
     "output_type": "execute_result"
    }
   ],
   "source": [
    "# Using For loop  to print elements in String\n",
    "a=[x for x in 'Champ']\n",
    "a\n"
   ]
  },
  {
   "cell_type": "code",
   "execution_count": 35,
   "id": "92e7ed80",
   "metadata": {},
   "outputs": [
    {
     "name": "stdout",
     "output_type": "stream",
     "text": [
      "1 Odd Number\n",
      "2 Even Number\n",
      "3 Odd Number\n",
      "4 Even Number\n",
      "5 Odd Number\n",
      "6 Even Number\n",
      "7 Odd Number\n",
      "8 Even Number\n",
      "9 Odd Number\n",
      "10 Even Number\n"
     ]
    }
   ],
   "source": [
    "# Finding if the number is odd or even\n",
    "a=[1,2,3,4,5,6,7,8,9,10]\n",
    "for i in a:\n",
    "    if i % 2 == 0:\n",
    "        print(i, \"Even Number\")\n",
    "    else:\n",
    "        print(i, \"Odd Number\")\n",
    "        "
   ]
  },
  {
   "cell_type": "code",
   "execution_count": 36,
   "id": "8c0343bf",
   "metadata": {},
   "outputs": [
    {
     "name": "stdout",
     "output_type": "stream",
     "text": [
      "H\n",
      "e\n",
      "l\n",
      "l\n",
      "o\n",
      " \n",
      "a\n",
      "l\n",
      "l\n"
     ]
    }
   ],
   "source": [
    "# Using for loop to print the String Elements one by one\n",
    "for a in \"Hello all\":\n",
    "    print(a)\n"
   ]
  },
  {
   "cell_type": "code",
   "execution_count": 38,
   "id": "5559fe2f",
   "metadata": {},
   "outputs": [
    {
     "name": "stdout",
     "output_type": "stream",
     "text": [
      "Name\n",
      "Elon\n",
      "age\n",
      "50\n",
      "Company\n",
      "['Spacex', 'Tesla']\n"
     ]
    }
   ],
   "source": [
    "# Using for loop to print items in Dictionary\n",
    "a={\"Name\":\"Elon\",\"age\":50,\"Company\":[\"Spacex\",\"Tesla\"]}\n",
    "for k,v in a.items():\n",
    "    print(k)\n",
    "    print(v)"
   ]
  },
  {
   "cell_type": "code",
   "execution_count": 39,
   "id": "8223f079",
   "metadata": {},
   "outputs": [
    {
     "name": "stdout",
     "output_type": "stream",
     "text": [
      "0\n",
      "1\n",
      "2\n",
      "3\n",
      "4\n",
      "5\n",
      "6\n",
      "7\n",
      "8\n",
      "9\n"
     ]
    }
   ],
   "source": [
    "# While Loop\n",
    "a=0\n",
    "while a<10:\n",
    "    print(a)\n",
    "    a+=1"
   ]
  },
  {
   "cell_type": "code",
   "execution_count": 40,
   "id": "8e32052b",
   "metadata": {},
   "outputs": [
    {
     "name": "stdout",
     "output_type": "stream",
     "text": [
      "0\n",
      " Continue\n",
      "1\n",
      " Continue\n",
      "2\n",
      " Continue\n",
      "3\n",
      " Continue\n",
      "4\n",
      "a is equal to 5\n"
     ]
    }
   ],
   "source": [
    "# Using Break and continue in While Loop\n",
    "a=0\n",
    "while a<10:\n",
    "    print(a)\n",
    "    a+=1\n",
    "    if a==5:\n",
    "        print(\"a is equal to 5\")\n",
    "        break\n",
    "    else:\n",
    "        print(\" Continue\")\n",
    "        continue\n",
    "        "
   ]
  },
  {
   "cell_type": "code",
   "execution_count": 41,
   "id": "ddd463c3",
   "metadata": {},
   "outputs": [
    {
     "name": "stdout",
     "output_type": "stream",
     "text": [
      "0\n",
      "1\n",
      "2\n",
      "3\n",
      "4\n"
     ]
    }
   ],
   "source": [
    "#Range\n",
    "for a in range (5):\n",
    "    print(a)\n",
    "       "
   ]
  },
  {
   "cell_type": "code",
   "execution_count": 42,
   "id": "0d47b3ba",
   "metadata": {},
   "outputs": [
    {
     "name": "stdout",
     "output_type": "stream",
     "text": [
      "1\n",
      "3\n",
      "5\n",
      "7\n",
      "9\n"
     ]
    }
   ],
   "source": [
    "for a in range (1,10,2):\n",
    "    print(a)"
   ]
  },
  {
   "cell_type": "code",
   "execution_count": 43,
   "id": "33123a45",
   "metadata": {},
   "outputs": [
    {
     "name": "stdout",
     "output_type": "stream",
     "text": [
      "10\n",
      "8\n",
      "6\n",
      "4\n",
      "2\n"
     ]
    }
   ],
   "source": [
    "for a in range (10,0,-2):\n",
    "    print(a)"
   ]
  },
  {
   "cell_type": "code",
   "execution_count": 44,
   "id": "e5586049",
   "metadata": {},
   "outputs": [
    {
     "data": {
      "text/plain": [
       "[0, 1, 4, 9, 16]"
      ]
     },
     "execution_count": 44,
     "metadata": {},
     "output_type": "execute_result"
    }
   ],
   "source": [
    "a=[i**2 for i in range(0,5)]\n",
    "a"
   ]
  },
  {
   "cell_type": "code",
   "execution_count": 45,
   "id": "3af53d31",
   "metadata": {},
   "outputs": [
    {
     "data": {
      "text/plain": [
       "[0, 2, 4, 6, 8]"
      ]
     },
     "execution_count": 45,
     "metadata": {},
     "output_type": "execute_result"
    }
   ],
   "source": [
    "a=[i for i in range(10) if i%2 == 0]\n",
    "a"
   ]
  },
  {
   "cell_type": "code",
   "execution_count": 46,
   "id": "6215bd2c",
   "metadata": {},
   "outputs": [
    {
     "name": "stdout",
     "output_type": "stream",
     "text": [
      "0 H\n",
      "1 e\n",
      "2 l\n",
      "3 l\n",
      "4 o\n",
      "5  \n",
      "6 C\n",
      "7 h\n",
      "8 a\n",
      "9 m\n",
      "10 p\n"
     ]
    }
   ],
   "source": [
    "#Enumerate- To track the number of iteration in the loop without working with variable increment\n",
    "a=0\n",
    "for i,a in enumerate(\"Hello Champ\"):\n",
    "    print(i,a)\n"
   ]
  },
  {
   "cell_type": "code",
   "execution_count": 47,
   "id": "07ba99fa",
   "metadata": {},
   "outputs": [
    {
     "data": {
      "text/plain": [
       "[('Name', 'Steve'), ('Age', 27), ('Country', 'India')]"
      ]
     },
     "execution_count": 47,
     "metadata": {},
     "output_type": "execute_result"
    }
   ],
   "source": [
    "#Zip- Creating Tuples by zipping 2 lists\n",
    "a=[\"Name\",\"Age\",\"Country\"]\n",
    "b=[\"Steve\",27,\"India\"]\n",
    "list(zip(a,b))"
   ]
  },
  {
   "cell_type": "code",
   "execution_count": null,
   "id": "57cc7ae7",
   "metadata": {},
   "outputs": [],
   "source": []
  }
 ],
 "metadata": {
  "kernelspec": {
   "display_name": "Python 3",
   "language": "python",
   "name": "python3"
  },
  "language_info": {
   "codemirror_mode": {
    "name": "ipython",
    "version": 3
   },
   "file_extension": ".py",
   "mimetype": "text/x-python",
   "name": "python",
   "nbconvert_exporter": "python",
   "pygments_lexer": "ipython3",
   "version": "3.8.8"
  }
 },
 "nbformat": 4,
 "nbformat_minor": 5
}
