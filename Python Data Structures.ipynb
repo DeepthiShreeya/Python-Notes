{
 "cells": [
  {
   "cell_type": "markdown",
   "id": "62da2d9d",
   "metadata": {},
   "source": [
    "Data Types:-\n",
    "\n",
    "Integers(int) Ex:-140\n",
    "\n",
    "Floating Point(float) Ex:-1.567\n",
    "\n",
    "String(str) Ex:- \"Hello\"\n",
    "\n",
    "List(list) Ex:- [26,\"Hello\",5.698]\n",
    "\n",
    "Dictionaries(dict) Ex:- {\"Age\":26,\"Name\":\"Joseph\"}\n",
    "\n",
    "Tuples(tup) Ex:-(26,\"Hello\",99)\n",
    "\n",
    "Sets(set) Ex:-{\"Hi\",\"Hello\"}\n",
    "\n",
    "Boolean(bool) Ex:-True or False"
   ]
  },
  {
   "cell_type": "markdown",
   "id": "9182608b",
   "metadata": {},
   "source": [
    "### Variables:-\n",
    "\n",
    "Rules for variable name:-\n",
    "\n",
    "1) It should not start with a number\n",
    "\n",
    "2) It should not have multiple words with spaces\n",
    "\n",
    "3) It should not use symbols except _\n",
    "\n",
    "4) Avoid using Keywords\n",
    "\n",
    "\n",
    "\n",
    "\n",
    "    "
   ]
  },
  {
   "cell_type": "markdown",
   "id": "3fbc8884",
   "metadata": {},
   "source": [
    " 1. Simple Arithmetic Program"
   ]
  },
  {
   "cell_type": "code",
   "execution_count": 1,
   "id": "1522fb25",
   "metadata": {},
   "outputs": [
    {
     "name": "stdout",
     "output_type": "stream",
     "text": [
      "11\n"
     ]
    }
   ],
   "source": [
    "a=5\n",
    "b=6\n",
    "c=a+b\n",
    "print(c)"
   ]
  },
  {
   "cell_type": "code",
   "execution_count": 2,
   "id": "651ddd65",
   "metadata": {
    "scrolled": true
   },
   "outputs": [
    {
     "name": "stdout",
     "output_type": "stream",
     "text": [
      "Enter the value of a:1\n",
      "Enter the value of b:3\n",
      "4.0\n"
     ]
    }
   ],
   "source": [
    "# Simple Arithmetic Program-Getting input from user\n",
    "a=float(input(\"Enter the value of a:\"))\n",
    "b=float(input(\"Enter the value of b:\"))\n",
    "add=a+b\n",
    "print(add)"
   ]
  },
  {
   "cell_type": "code",
   "execution_count": 3,
   "id": "117951c6",
   "metadata": {},
   "outputs": [
    {
     "name": "stdout",
     "output_type": "stream",
     "text": [
      "Enter the value of a:1\n",
      "Enter the value of b:3\n",
      "13\n"
     ]
    }
   ],
   "source": [
    "# Simple Arithmetic Program-Getting input from user\n",
    "#If type of the input is not specified it will take it as a string by default\n",
    "\n",
    "a=input(\"Enter the value of a:\")\n",
    "b=input(\"Enter the value of b:\")\n",
    "add=a+b\n",
    "print(add)"
   ]
  },
  {
   "cell_type": "code",
   "execution_count": 4,
   "id": "b82591f3",
   "metadata": {},
   "outputs": [
    {
     "name": "stdout",
     "output_type": "stream",
     "text": [
      "Enter the value of a:1\n",
      "Enter the value of b:2\n",
      "Add: 3\n",
      "Sub: -1\n",
      "Mul: 2\n",
      "Div: 0.5\n",
      "Mod: 1\n"
     ]
    }
   ],
   "source": [
    "# Simple Arithmetic Program-Getting input from user\n",
    "a=int(input(\"Enter the value of a:\"))\n",
    "b=int(input(\"Enter the value of b:\"))\n",
    "add=a+b\n",
    "sub=a-b\n",
    "mul=a*b\n",
    "div=a/b\n",
    "mod=a%b\n",
    "print(\"Add:\", add)\n",
    "print(\"Sub:\", sub)\n",
    "print(\"Mul:\", mul)\n",
    "print(\"Div:\", div)\n",
    "print(\"Mod:\", mod)"
   ]
  },
  {
   "cell_type": "code",
   "execution_count": 5,
   "id": "ed01839f",
   "metadata": {},
   "outputs": [
    {
     "name": "stdout",
     "output_type": "stream",
     "text": [
      "Sum: 3, Diff: -1, Mul: 2, Div: 0.5, Mod: 1\n"
     ]
    }
   ],
   "source": [
    "# Other method\n",
    "print(\"Sum: {0}, Diff: {1}, Mul: {2}, Div: {3}, Mod: {4}\". format(add,sub,mul,div,mod))"
   ]
  },
  {
   "cell_type": "code",
   "execution_count": 6,
   "id": "e3c702d2",
   "metadata": {},
   "outputs": [
    {
     "name": "stdout",
     "output_type": "stream",
     "text": [
      "Sum: 3, Diff: -1, Mul: 2, Div:        0.500000, Mod: 1\n"
     ]
    }
   ],
   "source": [
    "# Other method padding =15, Precision=6\n",
    "print(\"Sum: %d, Diff: %d, Mul: %d, Div: %15.6f, Mod: %d\"%(add,sub,mul,div,mod))"
   ]
  },
  {
   "cell_type": "code",
   "execution_count": 18,
   "id": "2aa07e0a",
   "metadata": {},
   "outputs": [
    {
     "name": "stdout",
     "output_type": "stream",
     "text": [
      "Sum  |Diff |mul  | div\n",
      "3    | -1  | 2   | 0.5\n"
     ]
    }
   ],
   "source": [
    "print('{0:<4} |{1:^4} |{2:^4} |{3:>4}'.format('Sum','Diff','mul','div'))\n",
    "print('{0:<4} |{1:^4} |{2:^4} |{3:>4}'.format(add,sub,mul,div,mod))"
   ]
  },
  {
   "cell_type": "code",
   "execution_count": 20,
   "id": "0f49b2c3",
   "metadata": {},
   "outputs": [
    {
     "name": "stdout",
     "output_type": "stream",
     "text": [
      "8\n"
     ]
    }
   ],
   "source": [
    "#Simple Arithmetic-Get input from User(Power)\n",
    "a=2\n",
    "b=3\n",
    "power=a**b\n",
    "print(power)"
   ]
  },
  {
   "cell_type": "markdown",
   "id": "5da84a40",
   "metadata": {},
   "source": [
    "2. Strings\n"
   ]
  },
  {
   "cell_type": "code",
   "execution_count": 12,
   "id": "9e4fc999",
   "metadata": {},
   "outputs": [
    {
     "name": "stdout",
     "output_type": "stream",
     "text": [
      "PythonBootcamp\n"
     ]
    }
   ],
   "source": [
    "#Create String\n",
    "a=\"Python\"\n",
    "b=\"Bootcamp\"\n",
    "print(a+b)\n"
   ]
  },
  {
   "cell_type": "code",
   "execution_count": 13,
   "id": "82a6e99c",
   "metadata": {},
   "outputs": [
    {
     "name": "stdout",
     "output_type": "stream",
     "text": [
      "11\n"
     ]
    }
   ],
   "source": [
    "# Length of String\n",
    "a=\"Champ Champ\"\n",
    "print(len(a))"
   ]
  },
  {
   "cell_type": "code",
   "execution_count": 14,
   "id": "0fc1501f",
   "metadata": {},
   "outputs": [
    {
     "name": "stdout",
     "output_type": "stream",
     "text": [
      "SSSSS\n"
     ]
    }
   ],
   "source": [
    "a=\"S\"\n",
    "b=a*5\n",
    "print(b)"
   ]
  },
  {
   "cell_type": "code",
   "execution_count": 15,
   "id": "9e897aaf",
   "metadata": {},
   "outputs": [
    {
     "name": "stdout",
     "output_type": "stream",
     "text": [
      "m\n",
      "amp\n",
      "Ch\n",
      "p\n",
      "Cham\n",
      "Cap\n",
      "pmahC\n"
     ]
    }
   ],
   "source": [
    "# String Index\n",
    "a=\"Champ\"\n",
    "print(a[3])#Identifying the element based on index\n",
    "print(a[2:])# Grab all the elements starting from the index\n",
    "print(a[:2])# Grab all the elemnts upto the index excluding the index\n",
    "print(a[-1])#Grab the last element\n",
    "print(a[:-1])# Grab the elements except the last elemnt\n",
    "print(a[::2])# Grab everything with 2 step increment in the elements\n",
    "print(a[::-1])# Print string backwards\n"
   ]
  },
  {
   "cell_type": "code",
   "execution_count": 21,
   "id": "e2f6125d",
   "metadata": {},
   "outputs": [
    {
     "name": "stdout",
     "output_type": "stream",
     "text": [
      "PYTHON BOOTCAMP\n",
      "python bootcamp\n"
     ]
    }
   ],
   "source": [
    "#String Functions\n",
    "a=\"Python Bootcamp\"\n",
    "print(a.upper())# Changing String to Upper Case\n",
    "print(a.lower())# Changing String to Lower Case\n"
   ]
  },
  {
   "cell_type": "code",
   "execution_count": 22,
   "id": "5b7cee10",
   "metadata": {},
   "outputs": [
    {
     "name": "stdout",
     "output_type": "stream",
     "text": [
      "['Python', 'Bootcamp']\n",
      "Python\n"
     ]
    }
   ],
   "source": [
    "# Splitting a string\n",
    "b=a.split()\n",
    "print(b)\n",
    "print(b[0])# Printing the split string  which is accessed based on Index"
   ]
  },
  {
   "cell_type": "code",
   "execution_count": 23,
   "id": "8511e8cf",
   "metadata": {},
   "outputs": [
    {
     "name": "stdout",
     "output_type": "stream",
     "text": [
      "['ElonMusk', ' SteveJobs', ' BillGates']\n",
      " SteveJobs\n"
     ]
    }
   ],
   "source": [
    "# Splitting String based on Delimiter\n",
    "c=\"ElonMusk, SteveJobs, BillGates\"\n",
    "d=c.split(\",\")\n",
    "print(d)\n",
    "print(d[1])"
   ]
  },
  {
   "cell_type": "code",
   "execution_count": 25,
   "id": "3c92d198",
   "metadata": {},
   "outputs": [
    {
     "name": "stdout",
     "output_type": "stream",
     "text": [
      "Welcome to  Python Bootcamp !\n"
     ]
    }
   ],
   "source": [
    "#Formatting String literals\n",
    "a=\"Python Bootcamp\"\n",
    "print(f\"Welcome to  {a} !\")"
   ]
  },
  {
   "cell_type": "markdown",
   "id": "92c86b4f",
   "metadata": {},
   "source": [
    "3. List Vs Tuple Vs  Set Vs Dictionary\n",
    "List          |      Tuple        |         Set         |        Dictionary\n",
    "\n",
    "Collection of | Ordered Collection| Unordered collection|  Unordered Collection \n",
    "ordered Data  |      of Data      |        of Data      | which stores data in \n",
    "                                                        |   Key, Value Basis\n",
    "                                                            \n",
    "Square Braces[]|  Paranthesis()   |   Curly Braces{ }   |  Curly Braces{ }\n",
    "\n",
    "\n",
    "Mutable        | Imutable       | Mutable,No Duplicates| Mutable,No Duplicates\n",
    "   \n",
    "Add Elements:-\n",
    "append         |Cannot be added |  add                 |update\n",
    "\n",
    "Remove Elements:-\n",
    "pop            |Cannot be removed| pop                 |pop\n",
    "\n",
    "Sorting Elements:-\n",
    "sort           | Already sorted  | Cannot be sorted    |sorted-sorting keys                                                                    default\n",
    "Searching given Element:-\n",
    "index          | index(returns the|Cannot get index    |get- return value with \n",
    "               | position of the                       | element key\n",
    "               | element)\n",
    "\n",
    "\n",
    "\n"
   ]
  }
 ],
 "metadata": {
  "kernelspec": {
   "display_name": "Python 3",
   "language": "python",
   "name": "python3"
  },
  "language_info": {
   "codemirror_mode": {
    "name": "ipython",
    "version": 3
   },
   "file_extension": ".py",
   "mimetype": "text/x-python",
   "name": "python",
   "nbconvert_exporter": "python",
   "pygments_lexer": "ipython3",
   "version": "3.8.8"
  }
 },
 "nbformat": 4,
 "nbformat_minor": 5
}
