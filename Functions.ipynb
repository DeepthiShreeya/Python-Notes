{
 "cells": [
  {
   "cell_type": "markdown",
   "id": "f8384138",
   "metadata": {},
   "source": [
    "# 12. Functions"
   ]
  },
  {
   "cell_type": "code",
   "execution_count": 1,
   "id": "238d8edb",
   "metadata": {},
   "outputs": [],
   "source": [
    "#Initializing the function\n",
    "def welcome():\n",
    "    print(\"Hello! Welcome to Python Bootcamp!!\")\n"
   ]
  },
  {
   "cell_type": "code",
   "execution_count": 2,
   "id": "1757cf7a",
   "metadata": {},
   "outputs": [
    {
     "name": "stdout",
     "output_type": "stream",
     "text": [
      "Hello! Welcome to Python Bootcamp!!\n"
     ]
    }
   ],
   "source": [
    "#Calling the function\n",
    "welcome()"
   ]
  },
  {
   "cell_type": "code",
   "execution_count": 3,
   "id": "1a712419",
   "metadata": {},
   "outputs": [],
   "source": [
    "#Initializing the function with argument \n",
    "def welcome(a):\n",
    "    print(\"Hello {0}! Welcome to Python Bootcamp!!\".format(a))"
   ]
  },
  {
   "cell_type": "code",
   "execution_count": 4,
   "id": "5ed3df50",
   "metadata": {},
   "outputs": [
    {
     "name": "stdout",
     "output_type": "stream",
     "text": [
      "Hello  Elon! Welcome to Python Bootcamp!!\n"
     ]
    }
   ],
   "source": [
    "#Calling the function with argument\n",
    "welcome(\" Elon\")"
   ]
  },
  {
   "cell_type": "code",
   "execution_count": 7,
   "id": "7707326f",
   "metadata": {},
   "outputs": [],
   "source": [
    "# Printing the result using a function\n",
    "def add(a,b):\n",
    "    add=a+b\n",
    "    print(\"Sum of {0} and {1} is {2}\".format(a,b,add))"
   ]
  },
  {
   "cell_type": "code",
   "execution_count": 8,
   "id": "db939630",
   "metadata": {},
   "outputs": [
    {
     "name": "stdout",
     "output_type": "stream",
     "text": [
      "Sum of 45 and 5 is 50\n"
     ]
    }
   ],
   "source": [
    "add(45,5)"
   ]
  },
  {
   "cell_type": "code",
   "execution_count": 6,
   "id": "bd5c9023",
   "metadata": {},
   "outputs": [],
   "source": [
    "# Function returning a value\n",
    "def addR(a,b):\n",
    "    add=a+b\n",
    "    return add\n"
   ]
  },
  {
   "cell_type": "code",
   "execution_count": 9,
   "id": "f8657b2e",
   "metadata": {},
   "outputs": [
    {
     "data": {
      "text/plain": [
       "50"
      ]
     },
     "execution_count": 9,
     "metadata": {},
     "output_type": "execute_result"
    }
   ],
   "source": [
    "addR(45,5)"
   ]
  },
  {
   "cell_type": "code",
   "execution_count": 10,
   "id": "c9c50a57",
   "metadata": {},
   "outputs": [],
   "source": [
    "# Check if a given number is prime number or not\n",
    "def check(numbers):\n",
    "    primeNumber=[]\n",
    "    for number in numbers:\n",
    "        if number>1:\n",
    "            for i in range(2, int(number/2)+1):\n",
    "                if (number % i) ==0:  # if a number is divisible by any number between 2 and number/2, the number is not prime\n",
    "                    print(number, \"is not a prime number\")\n",
    "                    break\n",
    "            else:\n",
    "                print(number, \"is a prime number\")\n",
    "                primeNumber.append(number)\n",
    "        else:\n",
    "            pass\n",
    "    return primeNumber\n",
    "\n",
    "    "
   ]
  },
  {
   "cell_type": "code",
   "execution_count": 11,
   "id": "03759415",
   "metadata": {},
   "outputs": [
    {
     "name": "stdout",
     "output_type": "stream",
     "text": [
      "2 is a prime number\n",
      "3 is a prime number\n",
      "4 is not a prime number\n",
      "5 is a prime number\n",
      "6 is not a prime number\n",
      "7 is a prime number\n",
      "8 is not a prime number\n",
      "9 is not a prime number\n"
     ]
    },
    {
     "data": {
      "text/plain": [
       "[2, 3, 5, 7]"
      ]
     },
     "execution_count": 11,
     "metadata": {},
     "output_type": "execute_result"
    }
   ],
   "source": [
    "check([2,3,4,5,6,7,8,9])"
   ]
  },
  {
   "cell_type": "markdown",
   "id": "e3fc259f",
   "metadata": {},
   "source": [
    "# 1. Map Function-Map a function to an iterable object"
   ]
  },
  {
   "cell_type": "code",
   "execution_count": 12,
   "id": "8bc73238",
   "metadata": {},
   "outputs": [],
   "source": [
    "def cubeFn(num):\n",
    "    return num**3"
   ]
  },
  {
   "cell_type": "code",
   "execution_count": 13,
   "id": "3bf9239f",
   "metadata": {},
   "outputs": [
    {
     "data": {
      "text/plain": [
       "[1, 8, 27, 64, 125]"
      ]
     },
     "execution_count": 13,
     "metadata": {},
     "output_type": "execute_result"
    }
   ],
   "source": [
    "a=[1,2,3,4,5]\n",
    "list(map(cubeFn,a))"
   ]
  },
  {
   "cell_type": "markdown",
   "id": "151d6169",
   "metadata": {},
   "source": [
    "# 2. Filter Functions- Yields items of iterable in which function is true"
   ]
  },
  {
   "cell_type": "code",
   "execution_count": 17,
   "id": "33d9d51f",
   "metadata": {},
   "outputs": [],
   "source": [
    "def evenFn(num):\n",
    "    return num % 2 == 0"
   ]
  },
  {
   "cell_type": "code",
   "execution_count": 18,
   "id": "6f8bd3d5",
   "metadata": {},
   "outputs": [
    {
     "name": "stdout",
     "output_type": "stream",
     "text": [
      "[True, False, True, False, True, False, True, False, True, False, True]\n",
      "[0, 2, 4, 6, 8, 10]\n"
     ]
    }
   ],
   "source": [
    "a=[0,1,2,3,4,5,6,7,8,9,10]\n",
    "print(list(map(evenFn,a)))\n",
    "print(list(filter(evenFn,a)))"
   ]
  },
  {
   "cell_type": "markdown",
   "id": "c8882bb5",
   "metadata": {},
   "source": [
    "# 3. Lambda Function- To create anonymous functions without using def"
   ]
  },
  {
   "cell_type": "code",
   "execution_count": 19,
   "id": "12de522e",
   "metadata": {},
   "outputs": [
    {
     "data": {
      "text/plain": [
       "216"
      ]
     },
     "execution_count": 19,
     "metadata": {},
     "output_type": "execute_result"
    }
   ],
   "source": [
    "#Normal Function\n",
    "def cubeFn(num):\n",
    "    return num**3\n",
    "cubeFn(6)"
   ]
  },
  {
   "cell_type": "code",
   "execution_count": 20,
   "id": "ee9556ef",
   "metadata": {},
   "outputs": [
    {
     "data": {
      "text/plain": [
       "216"
      ]
     },
     "execution_count": 20,
     "metadata": {},
     "output_type": "execute_result"
    }
   ],
   "source": [
    "#Lambda Function\n",
    "cubefn=lambda num: num**3\n",
    "cubefn(6)"
   ]
  },
  {
   "cell_type": "markdown",
   "id": "bc881cac",
   "metadata": {},
   "source": [
    "# 4. *args and **kwargs\n"
   ]
  },
  {
   "cell_type": "code",
   "execution_count": 21,
   "id": "a358c4a6",
   "metadata": {},
   "outputs": [
    {
     "data": {
      "text/plain": [
       "60"
      ]
     },
     "execution_count": 21,
     "metadata": {},
     "output_type": "execute_result"
    }
   ],
   "source": [
    "# Normal Function with Arguments\n",
    "def addR(a,b,c):\n",
    "    add=a+b+c\n",
    "    return add\n",
    "addR(10,20,30)"
   ]
  },
  {
   "cell_type": "code",
   "execution_count": 22,
   "id": "d81ed9a1",
   "metadata": {},
   "outputs": [
    {
     "data": {
      "text/plain": [
       "474"
      ]
     },
     "execution_count": 22,
     "metadata": {},
     "output_type": "execute_result"
    }
   ],
   "source": [
    "# Purpose of args-to avoid passing all the arguments one by one\n",
    "def addR(*argg):\n",
    "    return sum(argg)\n",
    "addR(10,20,30,56,86,38,92,76,37,8,21)"
   ]
  },
  {
   "cell_type": "code",
   "execution_count": 24,
   "id": "4a40872d",
   "metadata": {},
   "outputs": [
    {
     "name": "stdout",
     "output_type": "stream",
     "text": [
      "My Name is Elon\n",
      "My Age is 58\n"
     ]
    }
   ],
   "source": [
    "# **Kwargs- dictionary of key/value pairs\n",
    "def func(**kwargs):\n",
    "    if \"name\" in kwargs:\n",
    "        print(\"My Name is {0}\".format(kwargs[\"name\"]))\n",
    "    if \"age\" in kwargs:\n",
    "        print(\"My Age is {0}\".format(kwargs[\"age\"]))\n",
    "    else:\n",
    "        print(\"No Key found!\")\n",
    "        \n",
    "func(name='Elon',age=58, marks=100)"
   ]
  },
  {
   "cell_type": "code",
   "execution_count": null,
   "id": "91de547c",
   "metadata": {},
   "outputs": [],
   "source": []
  }
 ],
 "metadata": {
  "kernelspec": {
   "display_name": "Python 3",
   "language": "python",
   "name": "python3"
  },
  "language_info": {
   "codemirror_mode": {
    "name": "ipython",
    "version": 3
   },
   "file_extension": ".py",
   "mimetype": "text/x-python",
   "name": "python",
   "nbconvert_exporter": "python",
   "pygments_lexer": "ipython3",
   "version": "3.8.8"
  }
 },
 "nbformat": 4,
 "nbformat_minor": 5
}
